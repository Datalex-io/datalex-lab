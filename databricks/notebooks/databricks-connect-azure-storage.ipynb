{
 "cells": [
  {
   "cell_type": "markdown",
   "metadata": {
    "application/vnd.databricks.v1+cell": {
     "cellMetadata": {},
     "inputWidgets": {},
     "nuid": "99147c3a-0836-4f34-a601-4bd225281762",
     "showTitle": false,
     "title": ""
    }
   },
   "source": [
    "<div><img src=\"https://github.com/Datalex-io/datalex-lab/blob/main/databricks/images/databricks-connect-azure-storage.PNG?raw=true\" /></div>"
   ]
  },
  {
   "cell_type": "markdown",
   "metadata": {
    "application/vnd.databricks.v1+cell": {
     "cellMetadata": {},
     "inputWidgets": {},
     "nuid": "354e0ec3-09f2-429d-8123-4cee51ec3ae3",
     "showTitle": false,
     "title": ""
    }
   },
   "source": [
    "#Mounting your Storages"
   ]
  },
  {
   "cell_type": "markdown",
   "metadata": {
    "application/vnd.databricks.v1+cell": {
     "cellMetadata": {},
     "inputWidgets": {},
     "nuid": "97590ab3-cc2b-4fa6-9eb0-9d000e22e6e4",
     "showTitle": false,
     "title": ""
    }
   },
   "source": [
    "## Azure Data Lake Storage Gen1"
   ]
  },
  {
   "cell_type": "code",
   "execution_count": 0,
   "metadata": {
    "application/vnd.databricks.v1+cell": {
     "cellMetadata": {},
     "inputWidgets": {},
     "nuid": "a0a8c99a-ec7c-4aed-9807-389056a86660",
     "showTitle": true,
     "title": "with service principal"
    }
   },
   "outputs": [],
   "source": [
    "configs = {\"<prefix>.oauth2.access.token.provider.type\": \"ClientCredential\",\n",
    "           \"<prefix>.oauth2.client.id\": \"<application-id>\",\n",
    "           \"<prefix>.oauth2.credential\": dbutils.secrets.get(scope = \"<scope-name>\", key = \"<key-name-for-service-credential>\"),\n",
    "           \"<prefix>.oauth2.refresh.url\": \"https://login.microsoftonline.com/<directory-id>/oauth2/token\"}\n",
    "# Optionally, you can add <directory-name> to the source URI of your mount point.\n",
    "dbutils.fs.mount(\n",
    "  source = \"adl://<storage-resource-name>.azuredatalakestore.net/<directory-name>\",\n",
    "  mount_point = \"/mnt/<mount-name>\",\n",
    "  extra_configs = configs)"
   ]
  },
  {
   "cell_type": "markdown",
   "metadata": {
    "application/vnd.databricks.v1+cell": {
     "cellMetadata": {},
     "inputWidgets": {},
     "nuid": "8422dae8-892e-4eee-9848-4bbb1ce3c9d5",
     "showTitle": false,
     "title": ""
    }
   },
   "source": [
    "## Azure Data Lake Storage Gen2"
   ]
  },
  {
   "cell_type": "code",
   "execution_count": 0,
   "metadata": {
    "application/vnd.databricks.v1+cell": {
     "cellMetadata": {},
     "inputWidgets": {},
     "nuid": "1fd416e7-4176-4bb9-a181-4c3a6ae0434b",
     "showTitle": true,
     "title": "with service principal"
    }
   },
   "outputs": [],
   "source": [
    "configs = {\"fs.azure.account.auth.type\": \"OAuth\",\n",
    "           \"fs.azure.account.oauth.provider.type\": \"org.apache.hadoop.fs.azurebfs.oauth2.ClientCredsTokenProvider\",\n",
    "           \"fs.azure.account.oauth2.client.id\": \"<application-id>\",\n",
    "           \"fs.azure.account.oauth2.client.secret\": dbutils.secrets.get(scope = \"<scope-name>\", key = \"<key-name-for-service-credential>\"),\n",
    "           \"fs.azure.account.oauth2.client.endpoint\": \"https://login.microsoftonline.com/<directory-id>/oauth2/token\"}\n",
    "\n",
    "# Optionally, you can add <directory-name> to the source URI of your mount point.\n",
    "dbutils.fs.mount(\n",
    "  source = \"abfss://<file-system-name>@<storage-account-name>.dfs.core.windows.net/\",\n",
    "  mount_point = \"/mnt/<mount-name>\",\n",
    "  extra_configs = configs)"
   ]
  },
  {
   "cell_type": "code",
   "execution_count": 0,
   "metadata": {
    "application/vnd.databricks.v1+cell": {
     "cellMetadata": {},
     "inputWidgets": {},
     "nuid": "d8110beb-7511-420a-a800-d0932e0266a5",
     "showTitle": true,
     "title": "with passthrough"
    }
   },
   "outputs": [],
   "source": [
    "configs = { \"fs.azure.account.auth.type\": \"CustomAccessToken\", \n",
    "            \"fs.azure.account.custom.token.provider.class\": spark.conf.get(\"spark.databricks.passthrough.adls.gen2.tokenProviderClassName\") \n",
    "} \n",
    "\n",
    "# Optionally, you can add <directory-name> to the source URI of your mount point. \n",
    "dbutils.fs.mount( \n",
    "source = \"abfss://<container-name>@<storage-account-name>.dfs.core.windows.net/\", \n",
    "mount_point = \"/mnt/<mount-name>\", \n",
    "extra_configs = configs)"
   ]
  },
  {
   "cell_type": "code",
   "execution_count": 0,
   "metadata": {
    "application/vnd.databricks.v1+cell": {
     "cellMetadata": {},
     "inputWidgets": {},
     "nuid": "a4d260f1-d199-41fb-976e-fb6e537a32e8",
     "showTitle": true,
     "title": "with storage account access key"
    }
   },
   "outputs": [],
   "source": [
    "dbutils.fs.mount(\n",
    "  source = \"wasbs://<container>@<storage-account-name>.blob.core.windows.net/\",\n",
    "  mount_point = \"/mnt/<mount-name>\",\n",
    "  extra_configs  = {\"fs.azure.account.key.<storage-account-name>.blob.core.windows.net\" : \"<storage-account-key>\"}\n",
    ")"
   ]
  },
  {
   "cell_type": "code",
   "execution_count": 0,
   "metadata": {
    "application/vnd.databricks.v1+cell": {
     "cellMetadata": {},
     "inputWidgets": {},
     "nuid": "1bc82b4d-77c2-4357-8e3b-bbaf535084cf",
     "showTitle": true,
     "title": "with Shared Access Signatures"
    }
   },
   "outputs": [],
   "source": [
    "dbutils.fs.mount(\n",
    "  source = \"wasbs://<container>@<storage-account-name>.blob.core.windows.net/\"\n",
    "  mount_point = \"/mnt/<mount-name>\",\n",
    "  extra_configs = {\"fs.azure.sas.default.<storage-account-name>.blob.core.windows.net\" : \"<sas-key>\"}\n",
    ")"
   ]
  },
  {
   "cell_type": "markdown",
   "metadata": {
    "application/vnd.databricks.v1+cell": {
     "cellMetadata": {},
     "inputWidgets": {},
     "nuid": "0bf96ef2-f1e9-40b4-87aa-bb3a26eda8c5",
     "showTitle": false,
     "title": ""
    }
   },
   "source": [
    "## Azure Storage Account"
   ]
  },
  {
   "cell_type": "code",
   "execution_count": 0,
   "metadata": {
    "application/vnd.databricks.v1+cell": {
     "cellMetadata": {},
     "inputWidgets": {},
     "nuid": "ba6549eb-ce48-471f-8ac5-e66582402860",
     "showTitle": true,
     "title": "with storage account access key"
    }
   },
   "outputs": [],
   "source": [
    "dbutils.fs.mount(\n",
    "  source = \"wasbs://<container>@<storage-account-name>.blob.core.windows.net/\",\n",
    "  mount_point = \"/mnt/<mount-name>\",\n",
    "  extra_configs  = {\"fs.azure.account.key.<storage-account-name>.blob.core.windows.net\" : \"<storage-account-key>\"}\n",
    ")"
   ]
  },
  {
   "cell_type": "code",
   "execution_count": 0,
   "metadata": {
    "application/vnd.databricks.v1+cell": {
     "cellMetadata": {},
     "inputWidgets": {},
     "nuid": "32a8f784-6166-4921-b937-82e38a45b2ae",
     "showTitle": true,
     "title": "with Shared Access Signatures"
    }
   },
   "outputs": [],
   "source": [
    "dbutils.fs.mount(\n",
    "  source = \"wasbs://<container>@<storage-account-name>.blob.core.windows.net/\"\n",
    "  mount_point = \"/mnt/<mount-name>\",\n",
    "  extra_configs = {\"fs.azure.sas.default.<storage-account-name>.blob.core.windows.net\" : \"<sas-key>\"}\n",
    ")"
   ]
  },
  {
   "cell_type": "markdown",
   "metadata": {
    "application/vnd.databricks.v1+cell": {
     "cellMetadata": {},
     "inputWidgets": {},
     "nuid": "e11e740b-bb8b-46c5-b722-58d98cc7cc25",
     "showTitle": false,
     "title": ""
    }
   },
   "source": [
    "#Set your connexion"
   ]
  },
  {
   "cell_type": "markdown",
   "metadata": {
    "application/vnd.databricks.v1+cell": {
     "cellMetadata": {},
     "inputWidgets": {},
     "nuid": "5bff61c5-c76e-469a-8a12-5571e619a951",
     "showTitle": false,
     "title": ""
    }
   },
   "source": [
    "##Azure Data Lake Storage Gen1"
   ]
  },
  {
   "cell_type": "code",
   "execution_count": 0,
   "metadata": {
    "application/vnd.databricks.v1+cell": {
     "cellMetadata": {},
     "inputWidgets": {},
     "nuid": "b40de060-dc0d-423d-8e6f-a2003ce66151",
     "showTitle": true,
     "title": "with service principal"
    }
   },
   "outputs": [],
   "source": [
    "spark.conf.set(\"fs.adl.oauth2.access.token.provider.type\", \"ClientCredential\")\n",
    "spark.conf.set(\"fs.adl.oauth2.client.id\", \"<application-id>\")\n",
    "spark.conf.set(\"fs.adl.oauth2.credential\", dbutils.secrets.get(scope = \"<scope-name>\", key = \"<key-name-for-service-credential>\")\n",
    "spark.conf.set(\"fs.adl.oauth2.refresh.url\", \"https://login.microsoftonline.com/<tenant-id>/oauth2/token\")"
   ]
  },
  {
   "cell_type": "markdown",
   "metadata": {
    "application/vnd.databricks.v1+cell": {
     "cellMetadata": {},
     "inputWidgets": {},
     "nuid": "80af8545-c3bb-4e3e-b498-2bf98508deb0",
     "showTitle": false,
     "title": ""
    }
   },
   "source": [
    "## Azure Data Lake Storage Gen2"
   ]
  },
  {
   "cell_type": "code",
   "execution_count": 0,
   "metadata": {
    "application/vnd.databricks.v1+cell": {
     "cellMetadata": {},
     "inputWidgets": {},
     "nuid": "5ab992ee-fbd6-4053-b52a-dae5fa22518c",
     "showTitle": true,
     "title": "with service principal"
    }
   },
   "outputs": [],
   "source": [
    "spark.conf.set(\"fs.azure.account.auth.type.<storage-account-name>.dfs.core.windows.net\", \"OAuth\")\n",
    "spark.conf.set(\"fs.azure.account.oauth.provider.type.<storage-account-name>.dfs.core.windows.net\", \"org.apache.hadoop.fs.azurebfs.oauth2.ClientCredsTokenProvider\")\n",
    "spark.conf.set(\"fs.azure.account.oauth2.client.id.<storage-account-name>.dfs.core.windows.net\", \"<application-id>\")\n",
    "spark.conf.set(\"fs.azure.account.oauth2.client.secret.<storage-account-name>.dfs.core.windows.net\", dbutils.secrets.get(scope = \"<scope-name>\", key = \"<key-name-for-service-credential>\"))\n",
    "spark.conf.set(\"fs.azure.account.oauth2.client.endpoint.<storage-account-name>.dfs.core.windows.net\", \"https://login.microsoftonline.com/<tenant-id>/oauth2/token\")"
   ]
  },
  {
   "cell_type": "code",
   "execution_count": 0,
   "metadata": {
    "application/vnd.databricks.v1+cell": {
     "cellMetadata": {},
     "inputWidgets": {},
     "nuid": "fb0aa28f-4b7d-4568-bd52-2ed21dbcb1ba",
     "showTitle": true,
     "title": "with storage account access key"
    }
   },
   "outputs": [],
   "source": [
    "spark.conf.set(\"fs.azure.account.key.<storage-account-name>.dfs.core.windows.net\", dbutils.secrets.get(scope = \"<scope-name>\", key = \"<key-name-for-service-credential>\"))"
   ]
  },
  {
   "cell_type": "code",
   "execution_count": 0,
   "metadata": {
    "application/vnd.databricks.v1+cell": {
     "cellMetadata": {},
     "inputWidgets": {},
     "nuid": "43d62218-e1f1-4d8f-a9c0-6d07ae1fb660",
     "showTitle": true,
     "title": "with Shared Access Signatures"
    }
   },
   "outputs": [],
   "source": [
    "spark.conf.set(\"fs.azure.account.auth.type.<storage-account>.dfs.core.windows.net\", \"SAS\")\n",
    "spark.conf.set(\"fs.azure.sas.token.provider.type.<storage-account>.dfs.core.windows.net\", \"org.apache.hadoop.fs.azurebfs.sas.FixedSASTokenProvider\")\n",
    "spark.conf.set(\"fs.azure.sas.fixed.token.<storage-account>.dfs.core.windows.net\", dbutils.secrets.get(scope=\"<scope>\", key=\"<sas-token-key>\"))"
   ]
  },
  {
   "cell_type": "markdown",
   "metadata": {
    "application/vnd.databricks.v1+cell": {
     "cellMetadata": {},
     "inputWidgets": {},
     "nuid": "6cc98874-368c-4300-ba2b-defeca552052",
     "showTitle": false,
     "title": ""
    }
   },
   "source": [
    "##Azure Storage Account:"
   ]
  },
  {
   "cell_type": "code",
   "execution_count": 0,
   "metadata": {
    "application/vnd.databricks.v1+cell": {
     "cellMetadata": {},
     "inputWidgets": {},
     "nuid": "b6bde027-8cb6-4bdf-9c20-2e34e4785e72",
     "showTitle": true,
     "title": "with storage account access key"
    }
   },
   "outputs": [],
   "source": [
    "spark.conf.set(\"fs.azure.account.key.<storage-account-name>.dfs.core.windows.net\", dbutils.secrets.get(scope = \"<scope-name>\", key = \"<key-name-for-service-credential>\"))"
   ]
  },
  {
   "cell_type": "code",
   "execution_count": 0,
   "metadata": {
    "application/vnd.databricks.v1+cell": {
     "cellMetadata": {},
     "inputWidgets": {},
     "nuid": "9763090e-d85f-4006-8140-5ac9b4be8938",
     "showTitle": true,
     "title": "with Shared Access Signatures"
    }
   },
   "outputs": [],
   "source": [
    "spark.conf.set(\"fs.azure.account.auth.type.<storage-account>.dfs.core.windows.net\", \"SAS\")\n",
    "spark.conf.set(\"fs.azure.sas.token.provider.type.<storage-account>.dfs.core.windows.net\", \"org.apache.hadoop.fs.azurebfs.sas.FixedSASTokenProvider\")\n",
    "spark.conf.set(\"fs.azure.sas.fixed.token.<storage-account>.dfs.core.windows.net\", dbutils.secrets.get(scope=\"<scope>\", key=\"<sas-token-key>\"))"
   ]
  },
  {
   "cell_type": "code",
   "execution_count": 0,
   "metadata": {
    "application/vnd.databricks.v1+cell": {
     "cellMetadata": {},
     "inputWidgets": {},
     "nuid": "5062557c-3319-42a1-840b-a771eaf2a4c0",
     "showTitle": false,
     "title": ""
    }
   },
   "outputs": [],
   "source": [
    "# READ / WERIRT"
   ]
  },
  {
   "cell_type": "markdown",
   "metadata": {
    "application/vnd.databricks.v1+cell": {
     "cellMetadata": {},
     "inputWidgets": {},
     "nuid": "e682380f-e4e6-41ed-a989-33056f55efde",
     "showTitle": false,
     "title": ""
    }
   },
   "source": [
    "#Use API"
   ]
  },
  {
   "cell_type": "markdown",
   "metadata": {
    "application/vnd.databricks.v1+cell": {
     "cellMetadata": {},
     "inputWidgets": {},
     "nuid": "bfbcbc33-7cb9-42cf-b24c-eac103c37320",
     "showTitle": false,
     "title": ""
    }
   },
   "source": [
    "##Azure Data Lake Storage Gen1"
   ]
  },
  {
   "cell_type": "code",
   "execution_count": 0,
   "metadata": {
    "application/vnd.databricks.v1+cell": {
     "cellMetadata": {},
     "inputWidgets": {},
     "nuid": "36afcb2b-1038-4b83-ae6f-0f52889b274b",
     "showTitle": false,
     "title": ""
    }
   },
   "outputs": [],
   "source": [
    "pip install azure-mgmt-resource\n",
    "pip install azure-mgmt-datalake-store\n",
    "pip install azure-datalake-store"
   ]
  },
  {
   "cell_type": "code",
   "execution_count": 0,
   "metadata": {
    "application/vnd.databricks.v1+cell": {
     "cellMetadata": {},
     "inputWidgets": {},
     "nuid": "8493f254-45da-48bf-beb3-6cae8cfba8a0",
     "showTitle": false,
     "title": ""
    }
   },
   "outputs": [],
   "source": [
    "from azure.datalake.store import core, lib\n",
    "\n",
    "#Connect to Azure\n",
    "adls_credentials = lib.auth(tenant_id=<tenant-id>, client_secret=<application-key>, client_id=<application-id>)\n",
    "adls_name = '<adls-name>'\n",
    "adls_client = core.AzureDLFileSystem(adls_credentials, store_name=adls_name)\n",
    "\n",
    "print(adls_client.listdir())"
   ]
  },
  {
   "cell_type": "markdown",
   "metadata": {
    "application/vnd.databricks.v1+cell": {
     "cellMetadata": {},
     "inputWidgets": {},
     "nuid": "9a76ae77-82f5-4fe1-a1a2-33982244c4d8",
     "showTitle": false,
     "title": ""
    }
   },
   "source": [
    "##Azure Data Lake Storage Gen2"
   ]
  },
  {
   "cell_type": "code",
   "execution_count": 0,
   "metadata": {
    "application/vnd.databricks.v1+cell": {
     "cellMetadata": {},
     "inputWidgets": {},
     "nuid": "741fbb7e-30ab-4bdc-9515-ebc721a8cd85",
     "showTitle": false,
     "title": ""
    }
   },
   "outputs": [],
   "source": [
    "pip install azure-mgmt-resource\n",
    "\n",
    "from azure.storage.filedatalake import DataLakeServiceClient"
   ]
  },
  {
   "cell_type": "code",
   "execution_count": 0,
   "metadata": {
    "application/vnd.databricks.v1+cell": {
     "cellMetadata": {},
     "inputWidgets": {},
     "nuid": "9f3e4eaf-22bf-41f5-9ed6-2864a52f574d",
     "showTitle": true,
     "title": "with service principal"
    }
   },
   "outputs": [],
   "source": [
    "from azure.identity import ClientSecretCredential\n",
    "\n",
    "# get credentials\n",
    "credentials = ClientSecretCredential(tenant_id=tenant_id, client_id=client_id, client_secret=client_secret)\n",
    "url = \"{}://{}.dfs.core.windows.net\".format(\"https\", adls_name)\n",
    "service_client = DataLakeServiceClient(account_url=url, credential=credentials)\n",
    "\n",
    "# list containers\n",
    "service_client.list_file_systems()\n",
    "# get directory properties\n",
    "file_system = service_client.get_file_system_client(file_system=container_name)\n",
    "directory_properties = file_system.get_directory_client(directory=directory_name"
   ]
  },
  {
   "cell_type": "code",
   "execution_count": 0,
   "metadata": {
    "application/vnd.databricks.v1+cell": {
     "cellMetadata": {},
     "inputWidgets": {},
     "nuid": "0609b6c1-61b7-4441-8b2a-875222209519",
     "showTitle": true,
     "title": "with storage account access key or Shared Access Signatures"
    }
   },
   "outputs": [],
   "source": [
    "service_client = DataLakeServiceClient(account_url=url, credential=connection_string)\n",
    "\n",
    "# list containers\n",
    "service_client.list_file_systems()\n",
    "# get directory properties\n",
    "file_system = service_client.get_file_system_client(file_system=container_name)\n",
    "directory_properties = file_system.get_directory_client(directory=directory_name).get_directory_properties()"
   ]
  },
  {
   "cell_type": "markdown",
   "metadata": {
    "application/vnd.databricks.v1+cell": {
     "cellMetadata": {},
     "inputWidgets": {},
     "nuid": "00c962c9-5f8d-40d0-bfa5-3abd8bd4f8c2",
     "showTitle": false,
     "title": ""
    }
   },
   "source": [
    "##Azure Storage Account"
   ]
  },
  {
   "cell_type": "code",
   "execution_count": 0,
   "metadata": {
    "application/vnd.databricks.v1+cell": {
     "cellMetadata": {},
     "inputWidgets": {},
     "nuid": "44759001-ee75-468e-a248-001cc2d93433",
     "showTitle": false,
     "title": ""
    }
   },
   "outputs": [],
   "source": [
    "pip install azure-storage\n",
    "\n",
    "from azure.storage.blob import BlobClient"
   ]
  },
  {
   "cell_type": "code",
   "execution_count": 0,
   "metadata": {
    "application/vnd.databricks.v1+cell": {
     "cellMetadata": {},
     "inputWidgets": {},
     "nuid": "3c1d7acc-5b9b-4e03-aca7-31e3bf788d77",
     "showTitle": true,
     "title": "with service principal"
    }
   },
   "outputs": [],
   "source": [
    "from azure.identity import ClientSecretCredential\n",
    "\n",
    "# get credentials\n",
    "credentials = ClientSecretCredential(tenant_id=tenant_id, client_id=client_id, client_secret=client_secret)\n",
    "\n",
    "url = \"https://{}.blob.core.windows.net\".format(storage_name)\n",
    "blob_service_client = BlobServiceClient(account_url=.url, credential=credentials)\n",
    "\n",
    "# list containers\n",
    "blob_service_client.list_containers(include_metadata=True)\n",
    "\n",
    "# list blobs\n",
    "container_client = blob_service_client.get_container_client(container_name)\n",
    "container_client.list_blobs()"
   ]
  },
  {
   "cell_type": "code",
   "execution_count": 0,
   "metadata": {
    "application/vnd.databricks.v1+cell": {
     "cellMetadata": {},
     "inputWidgets": {},
     "nuid": "8575283c-9d94-4d32-83ac-47d589fe5670",
     "showTitle": true,
     "title": "with storage account access key or Shared Access Signatures"
    }
   },
   "outputs": [],
   "source": [
    "blob_service_client = BlobServiceClient.from_connection_string(conn_str=connection_string)\n",
    "\n",
    "# list containers\n",
    "blob_service_client.list_containers(include_metadata=True)\n",
    "\n",
    "# list blobs\n",
    "container_client = blob_service_client.get_container_client(container_name)\n",
    "container_client.list_blobs()"
   ]
  }
 ],
 "metadata": {
  "application/vnd.databricks.v1+notebook": {
   "dashboards": [],
   "language": "python",
   "notebookMetadata": {
    "pythonIndentUnit": 2
   },
   "notebookName": "databricks-connect-azure-storage",
   "widgets": {}
  }
 },
 "nbformat": 4,
 "nbformat_minor": 0
}
